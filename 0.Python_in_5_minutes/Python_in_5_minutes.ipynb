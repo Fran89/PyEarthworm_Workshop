{
 "cells": [
  {
   "cell_type": "markdown",
   "metadata": {},
   "source": [
    "# Let's learn python\n",
    "\n",
    "A short 5 minute python course\n",
    "\n",
    "## Import\n",
    "\n",
    "The import command allows us to add functions, classes and libraries. Some of the system libraries are imported here for demonstration"
   ]
  },
  {
   "cell_type": "code",
   "execution_count": null,
   "metadata": {},
   "outputs": [],
   "source": [
    "import os, sys"
   ]
  },
  {
   "cell_type": "markdown",
   "metadata": {},
   "source": [
    "## Using functions\n",
    "\n",
    "We can use the naitive print function to show data, calling them is pretty straightforward."
   ]
  },
  {
   "cell_type": "code",
   "execution_count": null,
   "metadata": {},
   "outputs": [],
   "source": [
    "print(sys.path)"
   ]
  },
  {
   "cell_type": "markdown",
   "metadata": {},
   "source": [
    "## Using Variables\n",
    "\n",
    "Variables are also pretty easy, no declaring or anything just adding them and that's it"
   ]
  },
  {
   "cell_type": "code",
   "execution_count": null,
   "metadata": {},
   "outputs": [],
   "source": [
    "# Global variables at the root level\n",
    "gbl_var = 5\n",
    "\n",
    "# Strings can be input with single or double quotes\n",
    "str_var = \"This is a string\""
   ]
  },
  {
   "cell_type": "code",
   "execution_count": null,
   "metadata": {},
   "outputs": [],
   "source": [
    "print(gbl_var)"
   ]
  },
  {
   "cell_type": "code",
   "execution_count": null,
   "metadata": {},
   "outputs": [],
   "source": [
    "print(str_var)"
   ]
  },
  {
   "cell_type": "markdown",
   "metadata": {},
   "source": [
    "## Arrays or lists\n",
    "\n",
    "Arrays (or lists) are defined with square brackets and are sequential. They can contain any type of variable."
   ]
  },
  {
   "cell_type": "code",
   "execution_count": null,
   "metadata": {},
   "outputs": [],
   "source": [
    "array1 = [ 12, 'Apple', 42.56, -60, True ]\n",
    "\n",
    "print(array1)"
   ]
  },
  {
   "cell_type": "markdown",
   "metadata": {},
   "source": [
    "Arrays start at 0 and can be accessed like so:\n"
   ]
  },
  {
   "cell_type": "code",
   "execution_count": null,
   "metadata": {},
   "outputs": [],
   "source": [
    "print(array1[0])"
   ]
  },
  {
   "cell_type": "markdown",
   "metadata": {},
   "source": [
    "and can be sub-array or sliced.\n"
   ]
  },
  {
   "cell_type": "code",
   "execution_count": null,
   "metadata": {},
   "outputs": [],
   "source": [
    "print(array1[1:3])"
   ]
  },
  {
   "cell_type": "markdown",
   "metadata": {},
   "source": [
    "## Python dictionaries \n",
    "\n",
    "Python dictionaries are storage arrays identified by the curly braces and are non-sequential. They are define their elements by a (key, value) pair. They can contain any variable including other dictionaries or lists."
   ]
  },
  {
   "cell_type": "code",
   "execution_count": null,
   "metadata": {},
   "outputs": [],
   "source": [
    "dictionary = {\n",
    "  'a' : \"hello\",\n",
    "  'b' : 12.45,\n",
    "  'c' : -30,\n",
    "  'list' : array1\n",
    "}"
   ]
  },
  {
   "cell_type": "markdown",
   "metadata": {},
   "source": [
    "The can be accessed like so:"
   ]
  },
  {
   "cell_type": "code",
   "execution_count": null,
   "metadata": {},
   "outputs": [],
   "source": [
    "print(dictionary['a'])"
   ]
  },
  {
   "cell_type": "code",
   "execution_count": null,
   "metadata": {},
   "outputs": [],
   "source": [
    "print(dictionary['b'])"
   ]
  },
  {
   "cell_type": "code",
   "execution_count": null,
   "metadata": {},
   "outputs": [],
   "source": [
    "print(dictionary['list'])"
   ]
  },
  {
   "cell_type": "markdown",
   "metadata": {},
   "source": [
    "## Loops and Conditions\n",
    "\n",
    "Loops and conditions are fairly straightforward as well and work like many other languages. Let's see an example of a counting loop:"
   ]
  },
  {
   "cell_type": "code",
   "execution_count": null,
   "metadata": {},
   "outputs": [],
   "source": [
    "i = 0\n",
    "while True:\n",
    "    print (i)\n",
    "    if i is 5:\n",
    "        break\n",
    "    else:\n",
    "        i = i + 1"
   ]
  },
  {
   "cell_type": "markdown",
   "metadata": {},
   "source": [
    "Here we observe something really important as well. In python scopes are defined not by parentheses or brackets, but with whitespace. Although it is really anoying at times it was a design decision to try to make code that is clean and presentable. You can use spaces or tabs it doesn't matter as long as it's CONSISTENT.\n",
    "\n",
    "As clean and pesentable as it may be that loop is very ineffective. In python the language has been structured so that you can easily loop list and dictionaries in a very clean way:"
   ]
  },
  {
   "cell_type": "code",
   "execution_count": null,
   "metadata": {},
   "outputs": [],
   "source": [
    "for element in dictionary:\n",
    "    print(element + \": \" + dictionary[element])"
   ]
  },
  {
   "cell_type": "markdown",
   "metadata": {},
   "source": [
    "In that example note how we had to CAST the element as a string, because otherwise we would have an error, you cannot add a string to a number."
   ]
  },
  {
   "cell_type": "code",
   "execution_count": null,
   "metadata": {},
   "outputs": [],
   "source": [
    "for element in dictionary:\n",
    "    print(element + \": \" + str(dictionary[element]))"
   ]
  },
  {
   "cell_type": "markdown",
   "metadata": {},
   "source": [
    "List can be iterated in a similar maner"
   ]
  },
  {
   "cell_type": "code",
   "execution_count": null,
   "metadata": {},
   "outputs": [],
   "source": [
    "for element in array1:\n",
    "    print(element)"
   ]
  },
  {
   "cell_type": "markdown",
   "metadata": {},
   "source": [
    "# Functions \n",
    "\n",
    "Functions are defined by the 'def' keywords and are very similar to how you define functions in other languages, no brackets needed!! scope is defined with whitespace."
   ]
  },
  {
   "cell_type": "code",
   "execution_count": null,
   "metadata": {},
   "outputs": [],
   "source": [
    "def add(a, b):\n",
    "   print(\"inputs are: \", a, b)\n",
    "  return a + b"
   ]
  },
  {
   "cell_type": "markdown",
   "metadata": {},
   "source": [
    "Did you see the error, this type of error happens when you have a stray space somewere in your code. We can fix that:"
   ]
  },
  {
   "cell_type": "code",
   "execution_count": null,
   "metadata": {},
   "outputs": [],
   "source": [
    "def add(a, b):\n",
    "    print(\"inputs are: \", a, b)\n",
    "    return a + b"
   ]
  },
  {
   "cell_type": "markdown",
   "metadata": {},
   "source": [
    "now let's use our function"
   ]
  },
  {
   "cell_type": "code",
   "execution_count": null,
   "metadata": {},
   "outputs": [],
   "source": [
    "res = add(2,3)\n",
    "print(res)"
   ]
  },
  {
   "cell_type": "markdown",
   "metadata": {},
   "source": [
    "Since the funciton is a simple add we se that numbers are no problem. However since we didn't specify type let's try adding strings"
   ]
  },
  {
   "cell_type": "code",
   "execution_count": null,
   "metadata": {},
   "outputs": [],
   "source": [
    "print(add('hello ',\"world!\"))"
   ]
  },
  {
   "cell_type": "markdown",
   "metadata": {},
   "source": [
    "Cool, that works. What would happen if we were to mix it up?"
   ]
  },
  {
   "cell_type": "code",
   "execution_count": null,
   "metadata": {},
   "outputs": [],
   "source": [
    "first = 2\n",
    "second = '2'\n",
    "\n",
    "print(add(first,second))"
   ]
  },
  {
   "cell_type": "markdown",
   "metadata": {},
   "source": [
    "Here we see another error because of a failure to check and sanitize inputs to a function. Be wary that python will try and only error on runtime, unlike other non-scripting languages that will check at compile time. Let's fix this and see:"
   ]
  },
  {
   "cell_type": "code",
   "execution_count": null,
   "metadata": {},
   "outputs": [],
   "source": [
    "print(add(first,int(second)))"
   ]
  },
  {
   "cell_type": "markdown",
   "metadata": {},
   "source": [
    "We see that we can cast with different keywords: int, float, str..\n",
    "\n",
    "This just about covers 80% of all the python you might come across in terms of syntax. I suggest learning more at many other online sources. Ask me afterwards if you're interested."
   ]
  },
  {
   "cell_type": "markdown",
   "metadata": {},
   "source": [
    "# Python classes\n",
    "\n",
    "As an added lesson if there is time, we would discuss python classes. Python classes allows us to use classes to create objects and assign methods to them. See example below"
   ]
  },
  {
   "cell_type": "code",
   "execution_count": 34,
   "metadata": {},
   "outputs": [],
   "source": [
    "class TestClass:\n",
    "    # This variable is part of the entire class and can be accessed from anywhere within it, and is shared\n",
    "    # through all instances of the class!! It can be changed but it is discouraged.\n",
    "    # It can also be accessed from anywhere on the outside\n",
    "    class_variable = 10 \n",
    "    \n",
    "    # The first def should always be your initialization, here you can ask for variables and assign defaults\n",
    "    # The first argument should always be self, this way we can refer to this object for other methods and vars.\n",
    "    # Here I've asked for 2 initial variables (a and b), one which if ommited is refered to as 2\n",
    "    def __init__(self, A, B = 2):\n",
    "        # Let's add 1 to a\n",
    "        # Note that by prepending a variable with self. makes it a instance variable and can be accesed from \n",
    "        # Outside the class as well as sharing it with the rest of the classes\n",
    "        self.a = A + 1\n",
    "        # Let's multiply b times 2 and store it in an instance\n",
    "        self.b = B * 2\n",
    "    \n",
    "    def multiply(self):\n",
    "        # Let's return the multiplication of a*b\n",
    "        return self.a * self.b\n",
    "    \n",
    "        "
   ]
  },
  {
   "cell_type": "markdown",
   "metadata": {},
   "source": [
    "How about we put that class to work?"
   ]
  },
  {
   "cell_type": "code",
   "execution_count": 37,
   "metadata": {},
   "outputs": [],
   "source": [
    "MyObj = TestClass(1)\n",
    "MyObj2 = TestClass(1,3)"
   ]
  },
  {
   "cell_type": "markdown",
   "metadata": {},
   "source": [
    "Here we see that we can create an object with either one or two arguments, in the case of the first the second value is automatically assumed to be 2"
   ]
  },
  {
   "cell_type": "code",
   "execution_count": 39,
   "metadata": {},
   "outputs": [
    {
     "name": "stdout",
     "output_type": "stream",
     "text": [
      "10\n",
      "2\n",
      "4\n",
      "8\n"
     ]
    }
   ],
   "source": [
    "print(MyObj.class_variable)\n",
    "print(MyObj.a)\n",
    "print(MyObj.b)\n",
    "print(MyObj.multiply())"
   ]
  },
  {
   "cell_type": "markdown",
   "metadata": {},
   "source": [
    "Let's see that second object"
   ]
  },
  {
   "cell_type": "code",
   "execution_count": 40,
   "metadata": {},
   "outputs": [
    {
     "name": "stdout",
     "output_type": "stream",
     "text": [
      "10\n",
      "2\n",
      "6\n",
      "12\n"
     ]
    }
   ],
   "source": [
    "print(MyObj2.class_variable)\n",
    "print(MyObj2.a)\n",
    "print(MyObj2.b)\n",
    "print(MyObj2.multiply())"
   ]
  },
  {
   "cell_type": "markdown",
   "metadata": {},
   "source": [
    "### That about covers most of python, but more techniques will be seen later on...\n",
    "\n",
    "Later."
   ]
  },
  {
   "cell_type": "code",
   "execution_count": null,
   "metadata": {},
   "outputs": [],
   "source": []
  }
 ],
 "metadata": {
  "kernelspec": {
   "display_name": "Python 3",
   "language": "python",
   "name": "python3"
  },
  "language_info": {
   "codemirror_mode": {
    "name": "ipython",
    "version": 3
   },
   "file_extension": ".py",
   "mimetype": "text/x-python",
   "name": "python",
   "nbconvert_exporter": "python",
   "pygments_lexer": "ipython3",
   "version": "3.6.5"
  }
 },
 "nbformat": 4,
 "nbformat_minor": 2
}
