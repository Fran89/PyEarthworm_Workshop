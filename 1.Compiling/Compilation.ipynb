{
 "cells": [
  {
   "cell_type": "markdown",
   "metadata": {},
   "source": [
    "# Conda!\n",
    "\n",
    "Conda is an interactive manager for python environments and packages, here we will download \n",
    "and install conda and setup the environment needed to compile PyEarthworm\n",
    "\n",
    "## Install conda\n",
    "\n",
    "First install conda by visiting: \n",
    "\n",
    "https://www.anaconda.com/distribution/\n",
    "\n",
    "or \n",
    "\n",
    "https://docs.conda.io/en/latest/miniconda.html\n",
    "\n",
    "Miniconda is a more lightweight version of the full anaconda distribution\n",
    "\n",
    "## Create a virtual environment\n",
    "\n",
    "The second step is once the distribution has been installed we should create a \n",
    "virtual environment on which to deploy PyEW, or we can always install it at the\n",
    "base level but this is not always recommended as it may interfere with other \n",
    "pakages\n",
    "\n",
    "    conda create --name pyew\n",
    "\n",
    "This will create a virtual environment on which we can install multiple libaries.\n",
    "We can also create this virtual environment in different versions with different\n",
    "versions of python.\n",
    "\n",
    "    conda create --name pyew python=x.x\n",
    "    \n",
    "You can also add all packages already associated with a particular environment\n",
    "such as anaconda\n",
    "\n",
    "    conda create --name pyew python=x.x anaconda\n",
    "    \n",
    "After this we should proceed to activate this environment in order to be able to\n",
    "install the necesary packages in this virtual environment which helps isolate\n",
    "packages from system packages.\n",
    "\n",
    "    conda activate pyew\n",
    "    \n",
    "## Install necessary packages\n",
    "\n",
    "Conda is a package manager that in this virtual environment allows for the \n",
    "installation of many Python, C/C++, R, etc... dependencies and packages. In this\n",
    "case we will be installing python packages. In this tutorial we will be using \n",
    "the folllowing:\n",
    "\n",
    "    conda install cython jupyter numpy flask configparser pillow scipy matplotlib\n",
    "    \n",
    "These are just some of the ones we may use, but there are many many more. One \n",
    "notable lib would be Obspy. In the event you don't have git you can install it \n",
    "with conda:\n",
    "\n",
    "    conda install git\n",
    "\n",
    "## Compile PyEW\n",
    "\n",
    "Just about the last thing we need to do is download and compile PyEarthworm the\n",
    "library we can use to read and write directly to the earthworm ring. Remember to\n",
    "source the environment file for earthworm prior to these next steps. To do this\n",
    "we first download the source from here using git:\n",
    "\n",
    "    git clone https://github.com/Boritech-Solutions/PyEarthWorm.git\n",
    "    \n",
    "Then we 'cd' into the src directory:\n",
    "\n",
    "    cd PyEarthWorm/src/\n",
    "    \n",
    "We run the compile line:\n",
    "\n",
    "    python setup.py build_ext -i\n",
    "\n",
    "If all went well you should have a PyEW.cpython-37m-x86_64-linux-gnu.so which we\n",
    "can move to the folders or install in the python path.\n",
    "\n",
    "*N.B If you are on Windows, you should use the Windows EW_NT.cmd and have it \n",
    "properly configured. Aditionally you should use the windows branch of PyEarthworm\n",
    "It will create a PyEW.dll if I'm not mistaken. Ask me for this file if you do \n",
    "not have it.*\n",
    "\n",
    "## Install to python path\n",
    "\n",
    "If you try importing it at the moment it will not run unless the .so or .dll (in Windowns) is not in the directory with the script. To minimize this we try to install it to our path"
   ]
  },
  {
   "cell_type": "code",
   "execution_count": null,
   "metadata": {},
   "outputs": [],
   "source": [
    "import PyEW"
   ]
  },
  {
   "cell_type": "markdown",
   "metadata": {},
   "source": [
    "First we find where to install it, with our environment activated run:"
   ]
  },
  {
   "cell_type": "code",
   "execution_count": null,
   "metadata": {},
   "outputs": [],
   "source": [
    "import sys\n",
    "print(sys.path)"
   ]
  },
  {
   "cell_type": "markdown",
   "metadata": {},
   "source": [
    "it should output a list like this:\n",
    "\n",
    "    ['', '/home/francisco/.anaconda3/envs/pyew/lib/python37.zip', \n",
    "    '/home/francisco/.anaconda3/envs/pyew/lib/python3.7', \n",
    "    '/home/francisco/.anaconda3/envs/pyew/lib/python3.7/lib-dynload', \n",
    "    '/home/francisco/.anaconda3/envs/pyew/lib/python3.7/site-packages']\n",
    "or if Windows:\n",
    "\n",
    "    ['C:\\\\Users\\\\Fran89\\\\Documents\\\\GitHub\\\\PyEarthworm_Workshop\\\\1.Compiling', \n",
    "    'C:\\\\ProgramData\\\\Anaconda3\\\\python37.zip', 'C:\\\\ProgramData\\\\Anaconda3\\\\DLLs', \n",
    "    'C:\\\\ProgramData\\\\Anaconda3\\\\lib', \n",
    "    'C:\\\\ProgramData\\\\Anaconda3', '', \n",
    "    'C:\\\\Users\\\\Fran89\\\\AppData\\\\Roaming\\\\Python\\\\Python37\\\\site-packages', \n",
    "    'C:\\\\ProgramData\\\\Anaconda3\\\\lib\\\\site-packages', \n",
    "    'C:\\\\ProgramData\\\\Anaconda3\\\\lib\\\\site-packages\\\\win32', \n",
    "    'C:\\\\ProgramData\\\\Anaconda3\\\\lib\\\\site-packages\\\\win32\\\\lib', \n",
    "    'C:\\\\ProgramData\\\\Anaconda3\\\\lib\\\\site-packages\\\\Pythonwin', \n",
    "    'C:\\\\ProgramData\\\\Anaconda3\\\\lib\\\\site-packages\\\\IPython\\\\extensions', 'C:\\\\Users\\\\Fran89\\\\.ipython']\n",
    "\n",
    "We're looking for the lib-dynload folder. Copy the PyEW.cpython-37m-x86_64-linux-gnu.so\n",
    "to the /envs/pyew/lib/python3.7/lib-dynload. If you're on windows we're looking for the DLLs folder copy the PyEW.cp37-win_amd64.pyd to C:\\\\ProgramData\\\\Anaconda3\\\\DLLs\n",
    "\n",
    "Once done close the python with \n",
    "'exit()'. To test this worked:"
   ]
  },
  {
   "cell_type": "code",
   "execution_count": null,
   "metadata": {},
   "outputs": [],
   "source": [
    "import PyEW"
   ]
  },
  {
   "cell_type": "markdown",
   "metadata": {},
   "source": [
    "    \n",
    "If there was no error it sucessfully opened.\n",
    "\n",
    "### We are done setting up the environment and are ready to develop."
   ]
  },
  {
   "cell_type": "code",
   "execution_count": null,
   "metadata": {},
   "outputs": [],
   "source": []
  }
 ],
 "metadata": {
  "kernelspec": {
   "display_name": "Python 3",
   "language": "python",
   "name": "python3"
  },
  "language_info": {
   "codemirror_mode": {
    "name": "ipython",
    "version": 3
   },
   "file_extension": ".py",
   "mimetype": "text/x-python",
   "name": "python",
   "nbconvert_exporter": "python",
   "pygments_lexer": "ipython3",
   "version": "3.7.3"
  }
 },
 "nbformat": 4,
 "nbformat_minor": 2
}
