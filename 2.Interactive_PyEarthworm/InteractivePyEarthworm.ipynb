{
 "cells": [
  {
   "cell_type": "markdown",
   "metadata": {},
   "source": [
    "# Hello and welcome to interactive PyEarthworm\n",
    "\n",
    "This notebook a tutorial that will show you how the PyEarthworm interacts with earthworm.\n",
    "\n",
    "The first thing we should do is import some basic libraries that will show allow us to work. OS, Sys, Logging and oviously PyEarthworm are the big libraries we should load up. Additionally we will want Numpy."
   ]
  },
  {
   "cell_type": "code",
   "execution_count": null,
   "metadata": {},
   "outputs": [],
   "source": [
    "import logging, PyEW, numpy"
   ]
  },
  {
   "cell_type": "markdown",
   "metadata": {},
   "source": [
    "### Let's add logging\n",
    "\n",
    "PyEW uses python's internal logging library which means if we don't modify the logging level we won't see much output from PyEW, unless something went truly wrong. For our purposes let's change this. (We might not see anything in the notebook level, but should if you are using the Python CLI)"
   ]
  },
  {
   "cell_type": "code",
   "execution_count": null,
   "metadata": {},
   "outputs": [],
   "source": [
    "logging.getLogger(__name__).addHandler(logging.StreamHandler())"
   ]
  },
  {
   "cell_type": "markdown",
   "metadata": {},
   "source": [
    "## Assuming Earthworm is currently running let's register a module\n",
    "\n",
    "We now have a way to communicate with earthworm via Ring. Let's begin trying to communicate with it. The first thing we should do it is register an Earthworm module with PyEarthworm we do that with the following:"
   ]
  },
  {
   "cell_type": "code",
   "execution_count": null,
   "metadata": {},
   "outputs": [],
   "source": [
    "MyModule = PyEW.EWModule(1000, 8, 141, 30.0, False)"
   ]
  },
  {
   "cell_type": "markdown",
   "metadata": {},
   "source": [
    "Make sure you only run it once since \"threads can only be started once\". So what have we done here?  \n",
    "We defined a module called MyModule:\n",
    "\n",
    "1. We've set its main ring to (1000) which should be the WAVE_RING. In this ring it will heartbeat and look for stop and restart messages. \n",
    "2. It's module ID was set to 8. If we check the earthworm.d should correspond to MOD_PyEWTest\n",
    "3. The INST_ID was set to 141 which is INST_PRSM. This should be set to the INST_ID we want to send and recieve from.\n",
    "4. We've set the HeartBeats to 30s\n",
    "5. We've set the Debug Flag to False\n",
    "\n",
    "All in all this is how the line goes:\n",
    "\n",
    "    EWModule(parent ring 1000, mod_id 8, inst_id 141, heartbeat 30s, debug = False)\n",
    "\n",
    "## Let's add a communication RING\n",
    "\n",
    "The ring we added at the beginning is the communication ring, but this does nothing. Internal to this module we can add in and out rings with the following"
   ]
  },
  {
   "cell_type": "code",
   "execution_count": null,
   "metadata": {},
   "outputs": [],
   "source": [
    "MyModule.add_ring(1000)"
   ]
  },
  {
   "cell_type": "markdown",
   "metadata": {},
   "source": [
    "Having added it this ring is now at index 0, any additional rings would be 1, 2, 3, etc...\n",
    "\n",
    "Let's try aquiring a wave from this ring"
   ]
  },
  {
   "cell_type": "code",
   "execution_count": null,
   "metadata": {},
   "outputs": [],
   "source": [
    "wave = MyModule.get_wave(0)"
   ]
  },
  {
   "cell_type": "markdown",
   "metadata": {},
   "source": [
    "If this was successfull we now have a wave in the wave variable let's see it"
   ]
  },
  {
   "cell_type": "code",
   "execution_count": null,
   "metadata": {
    "scrolled": true
   },
   "outputs": [],
   "source": [
    "print(wave)"
   ]
  },
  {
   "cell_type": "markdown",
   "metadata": {},
   "source": [
    "Alright well there it is. This is what a wave extracted from EW using PyEarthworm looks like. It is a python dictionary that contains the essentials of a tracebuf2 message.\n",
    "\n",
    "Let's try seeing what it contains:"
   ]
  },
  {
   "cell_type": "code",
   "execution_count": null,
   "metadata": {},
   "outputs": [],
   "source": [
    "print ('Station: ', wave['station'])\n",
    "print ('Network: ', wave['network'])\n",
    "print ('Channel: ', wave['channel'])"
   ]
  },
  {
   "cell_type": "markdown",
   "metadata": {},
   "source": [
    "It's important to note that the data is a numpy array. Now that we have a wave object what do you suppose we can do with it? Well we can try sending it to another ring. The pick ring perhaps?... Let's do that in a terminal I suggest opening up a sniffwave PICK_RING to see if it makes it.\n",
    "\n",
    "    sniffwave PICK_RING verbose\n",
    "\n",
    "So to to this let's add the PICK_RING to the module, a quick search of earthworm.d shows us that the pick ring is ID: 1005"
   ]
  },
  {
   "cell_type": "code",
   "execution_count": null,
   "metadata": {},
   "outputs": [],
   "source": [
    "MyModule.add_ring(1005)"
   ]
  },
  {
   "cell_type": "markdown",
   "metadata": {},
   "source": [
    "Alright this ring is now our ring at index 1, lets go ahead and try to put this wave there!"
   ]
  },
  {
   "cell_type": "code",
   "execution_count": null,
   "metadata": {},
   "outputs": [],
   "source": [
    "MyModule.put_wave(1, wave)"
   ]
  },
  {
   "cell_type": "markdown",
   "metadata": {},
   "source": [
    "Did it work? in the output for sniffwave you should have seen something like this:\n",
    "\n",
    "    AOPR.HNE.PR.-- (0x0 0x0) 0 i4 708 100.0 2019/05/26 01:49:16.06 (1558835356.0600) 2019/05/26 01:49:23.13 (1558835363.1300) i141=INST_PRSM m8=MOD_PyEWTest t19=TYPE_TRACEBUF2 len2896 [D:1380.5s F: 0.0s]\n",
    "\n",
    "How about we try to add our own wave... Let's define a wave shall we?"
   ]
  },
  {
   "cell_type": "code",
   "execution_count": null,
   "metadata": {},
   "outputs": [],
   "source": [
    "import numpy as np\n",
    "\n",
    "mywave = {\n",
    "     'station': 'TEST', \n",
    "     'network': 'TT', \n",
    "     'channel': 'CH1', \n",
    "     'location': '--', \n",
    "     'nsamp': 3, \n",
    "     'samprate': 1, \n",
    "     'startt': 1558835356.06,\n",
    "     'datatype': 'i4',\n",
    "     'data': np.array([  1,  -4,  -6], dtype=np.int32)\n",
    " }"
   ]
  },
  {
   "cell_type": "code",
   "execution_count": null,
   "metadata": {},
   "outputs": [],
   "source": [
    "MyModule.put_wave(1, mywave)"
   ]
  },
  {
   "cell_type": "markdown",
   "metadata": {},
   "source": [
    "You should now have something like this\n",
    "\n",
    "    TEST.CH1.TT.-- (0x0 0x0) 0 i4   3   1.0 2019/05/26 01:49:16.06 (1558835356.0600) 2019/05/26 01:49:18.06 (1558835358.0600) i141=INST_PRSM m8=MOD_PyEWTest t19=TYPE_TRACEBUF2 len  76 [D:2683.1s F: 0.0s]\n",
    "\n",
    "Cool, so what else can we do? Let's try to place a pick message into the pick ring. Now in EW the pick message is essentially a well formatted text string:\n",
    "\n",
    "    (messageid) (modid) (instid) (index) (STAT).(CHA).(NT).(LC) (Q)(W) (YYYY)(MM)(DD)(HH)(mm)(SS).(ZZZ) (AMP) (??) (??)\n",
    "    \n",
    "So let's construct one and place it in the pick ring\n",
    "\n",
    "P.S Remember to change the sniffwave to sniffring\n",
    "\n",
    "    sniffring PICK_RING verbose"
   ]
  },
  {
   "cell_type": "code",
   "execution_count": null,
   "metadata": {},
   "outputs": [],
   "source": [
    "pick = '2000 8 141 100 TEST.CH1.TT.-- ?1 20190520120516.032 0 0 0'\n",
    "\n",
    "MyModule.put_msg(1,8,pick)"
   ]
  },
  {
   "cell_type": "markdown",
   "metadata": {},
   "source": [
    "If everything went well you should see something like this:\n",
    "\n",
    "    1558838466 Received INST_PRSM MOD_PyEWTest TYPE_PICK_SCNL <seq:  1> <Length:    57>\n",
    "    2000 8 141 100 TEST.CH1.TT.-- ?1 20190520120516.032 0 0 0\n",
    "\n",
    "And there it is we sucessfully added a pick, pretty cool right?\n",
    "\n",
    "Let's keep testing this we can ask for a status message:"
   ]
  },
  {
   "cell_type": "code",
   "execution_count": null,
   "metadata": {},
   "outputs": [],
   "source": [
    "MyModule.req_syssta()"
   ]
  },
  {
   "cell_type": "markdown",
   "metadata": {},
   "source": [
    "It may take a few seconds but this should give us the Earthworm system status...\n",
    "\n",
    "We could ask if the module itself is ok, or if earthworm requested a shutdown"
   ]
  },
  {
   "cell_type": "code",
   "execution_count": null,
   "metadata": {},
   "outputs": [],
   "source": [
    "print(\"Me: Hey MyModule are you ok?\")\n",
    "if (MyModule.mod_sta()):\n",
    "  print('MyModule: I\\'m fine!')\n",
    "else:\n",
    "  print('MyModule: I\\'m straight up not having a good time')"
   ]
  },
  {
   "cell_type": "markdown",
   "metadata": {},
   "source": [
    "## Conclution\n",
    "\n",
    "PyEarthworm offers fast easy communication to the Earthworm internal rings via Python. We will further explore how to make actual modules with parameter files and earthworm style logging."
   ]
  },
  {
   "cell_type": "code",
   "execution_count": null,
   "metadata": {},
   "outputs": [],
   "source": []
  }
 ],
 "metadata": {
  "kernelspec": {
   "display_name": "Python 3",
   "language": "python",
   "name": "python3"
  },
  "language_info": {
   "codemirror_mode": {
    "name": "ipython",
    "version": 3
   },
   "file_extension": ".py",
   "mimetype": "text/x-python",
   "name": "python",
   "nbconvert_exporter": "python",
   "pygments_lexer": "ipython3",
   "version": "3.7.3"
  }
 },
 "nbformat": 4,
 "nbformat_minor": 2
}
